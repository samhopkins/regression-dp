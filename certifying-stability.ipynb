{
 "cells": [
  {
   "cell_type": "code",
   "execution_count": 3,
   "id": "ea7a97db",
   "metadata": {},
   "outputs": [
    {
     "name": "stderr",
     "output_type": "stream",
     "text": [
      "\u001b[32m\u001b[1m   Resolving\u001b[22m\u001b[39m package versions...\n",
      "\u001b[32m\u001b[1m  No Changes\u001b[22m\u001b[39m to `~/.julia/environments/v1.8/Project.toml`\n",
      "\u001b[32m\u001b[1m  No Changes\u001b[22m\u001b[39m to `~/.julia/environments/v1.8/Manifest.toml`\n",
      "\u001b[32m\u001b[1m   Resolving\u001b[22m\u001b[39m package versions...\n",
      "\u001b[32m\u001b[1m  No Changes\u001b[22m\u001b[39m to `~/.julia/environments/v1.8/Project.toml`\n",
      "\u001b[32m\u001b[1m  No Changes\u001b[22m\u001b[39m to `~/.julia/environments/v1.8/Manifest.toml`\n",
      "\u001b[32m\u001b[1m   Resolving\u001b[22m\u001b[39m package versions...\n",
      "\u001b[32m\u001b[1m  No Changes\u001b[22m\u001b[39m to `~/.julia/environments/v1.8/Project.toml`\n",
      "\u001b[32m\u001b[1m  No Changes\u001b[22m\u001b[39m to `~/.julia/environments/v1.8/Manifest.toml`\n",
      "\u001b[32m\u001b[1m   Resolving\u001b[22m\u001b[39m package versions...\n",
      "\u001b[32m\u001b[1m  No Changes\u001b[22m\u001b[39m to `~/.julia/environments/v1.8/Project.toml`\n",
      "\u001b[32m\u001b[1m  No Changes\u001b[22m\u001b[39m to `~/.julia/environments/v1.8/Manifest.toml`\n",
      "\u001b[32m\u001b[1m   Resolving\u001b[22m\u001b[39m package versions...\n",
      "\u001b[32m\u001b[1m  No Changes\u001b[22m\u001b[39m to `~/.julia/environments/v1.8/Project.toml`\n",
      "\u001b[32m\u001b[1m  No Changes\u001b[22m\u001b[39m to `~/.julia/environments/v1.8/Manifest.toml`\n"
     ]
    },
    {
     "data": {
      "text/plain": [
       "standardize (generic function with 1 method)"
      ]
     },
     "execution_count": 3,
     "metadata": {},
     "output_type": "execute_result"
    }
   ],
   "source": [
    "using Pkg\n",
    "Pkg.add(\"CSV\")\n",
    "Pkg.add(\"DataFrames\")\n",
    "Pkg.add(\"Plots\")\n",
    "Pkg.add(\"GLM\")\n",
    "Pkg.add(\"LinearAlgebra\")\n",
    "using CSV\n",
    "using DataFrames\n",
    "using Plots\n",
    "using LinearAlgebra\n",
    "using GLM\n",
    "using Convex\n",
    "using SCS\n",
    "\n",
    "function standardize(z)\n",
    "    mean = sum(z) / length(z)\n",
    "    for i in 1:length(z)\n",
    "        z[i] = z[i] - mean\n",
    "    end\n",
    "    stddev = norm(z) / sqrt(length(z))\n",
    "    for i in 1:length(z)\n",
    "        z[i] = z[i] / stddev\n",
    "    end\n",
    "    return z\n",
    "end"
   ]
  },
  {
   "cell_type": "code",
   "execution_count": 107,
   "id": "43abe968",
   "metadata": {},
   "outputs": [
    {
     "data": {
      "text/html": [
       "<div><div style = \"float: left;\"><span>506×14 DataFrame</span></div><div style = \"float: right;\"><span style = \"font-style: italic;\">481 rows omitted</span></div><div style = \"clear: both;\"></div></div><div class = \"data-frame\" style = \"overflow-x: scroll;\"><table class = \"data-frame\" style = \"margin-bottom: 6px;\"><thead><tr class = \"header\"><th class = \"rowNumber\" style = \"font-weight: bold; text-align: right;\">Row</th><th style = \"text-align: left;\">crim</th><th style = \"text-align: left;\">zn</th><th style = \"text-align: left;\">indus</th><th style = \"text-align: left;\">chas</th><th style = \"text-align: left;\">nox</th><th style = \"text-align: left;\">rm</th><th style = \"text-align: left;\">age</th><th style = \"text-align: left;\">dis</th><th style = \"text-align: left;\">rad</th><th style = \"text-align: left;\">tax</th><th style = \"text-align: left;\">ptratio</th><th style = \"text-align: left;\">b</th><th style = \"text-align: left;\">lstat</th><th style = \"text-align: left;\">medv</th></tr><tr class = \"subheader headerLastRow\"><th class = \"rowNumber\" style = \"font-weight: bold; text-align: right;\"></th><th title = \"Float64\" style = \"text-align: left;\">Float64</th><th title = \"Float64\" style = \"text-align: left;\">Float64</th><th title = \"Float64\" style = \"text-align: left;\">Float64</th><th title = \"Int64\" style = \"text-align: left;\">Int64</th><th title = \"Float64\" style = \"text-align: left;\">Float64</th><th title = \"Float64\" style = \"text-align: left;\">Float64</th><th title = \"Float64\" style = \"text-align: left;\">Float64</th><th title = \"Float64\" style = \"text-align: left;\">Float64</th><th title = \"Int64\" style = \"text-align: left;\">Int64</th><th title = \"Int64\" style = \"text-align: left;\">Int64</th><th title = \"Float64\" style = \"text-align: left;\">Float64</th><th title = \"Float64\" style = \"text-align: left;\">Float64</th><th title = \"Float64\" style = \"text-align: left;\">Float64</th><th title = \"Float64\" style = \"text-align: left;\">Float64</th></tr></thead><tbody><tr><td class = \"rowNumber\" style = \"font-weight: bold; text-align: right;\">1</td><td style = \"text-align: right;\">0.00632</td><td style = \"text-align: right;\">18.0</td><td style = \"text-align: right;\">2.31</td><td style = \"text-align: right;\">0</td><td style = \"text-align: right;\">0.538</td><td style = \"text-align: right;\">6.575</td><td style = \"text-align: right;\">65.2</td><td style = \"text-align: right;\">4.09</td><td style = \"text-align: right;\">1</td><td style = \"text-align: right;\">296</td><td style = \"text-align: right;\">15.3</td><td style = \"text-align: right;\">396.9</td><td style = \"text-align: right;\">4.98</td><td style = \"text-align: right;\">24.0</td></tr><tr><td class = \"rowNumber\" style = \"font-weight: bold; text-align: right;\">2</td><td style = \"text-align: right;\">0.02731</td><td style = \"text-align: right;\">0.0</td><td style = \"text-align: right;\">7.07</td><td style = \"text-align: right;\">0</td><td style = \"text-align: right;\">0.469</td><td style = \"text-align: right;\">6.421</td><td style = \"text-align: right;\">78.9</td><td style = \"text-align: right;\">4.9671</td><td style = \"text-align: right;\">2</td><td style = \"text-align: right;\">242</td><td style = \"text-align: right;\">17.8</td><td style = \"text-align: right;\">396.9</td><td style = \"text-align: right;\">9.14</td><td style = \"text-align: right;\">21.6</td></tr><tr><td class = \"rowNumber\" style = \"font-weight: bold; text-align: right;\">3</td><td style = \"text-align: right;\">0.02729</td><td style = \"text-align: right;\">0.0</td><td style = \"text-align: right;\">7.07</td><td style = \"text-align: right;\">0</td><td style = \"text-align: right;\">0.469</td><td style = \"text-align: right;\">7.185</td><td style = \"text-align: right;\">61.1</td><td style = \"text-align: right;\">4.9671</td><td style = \"text-align: right;\">2</td><td style = \"text-align: right;\">242</td><td style = \"text-align: right;\">17.8</td><td style = \"text-align: right;\">392.83</td><td style = \"text-align: right;\">4.03</td><td style = \"text-align: right;\">34.7</td></tr><tr><td class = \"rowNumber\" style = \"font-weight: bold; text-align: right;\">4</td><td style = \"text-align: right;\">0.03237</td><td style = \"text-align: right;\">0.0</td><td style = \"text-align: right;\">2.18</td><td style = \"text-align: right;\">0</td><td style = \"text-align: right;\">0.458</td><td style = \"text-align: right;\">6.998</td><td style = \"text-align: right;\">45.8</td><td style = \"text-align: right;\">6.0622</td><td style = \"text-align: right;\">3</td><td style = \"text-align: right;\">222</td><td style = \"text-align: right;\">18.7</td><td style = \"text-align: right;\">394.63</td><td style = \"text-align: right;\">2.94</td><td style = \"text-align: right;\">33.4</td></tr><tr><td class = \"rowNumber\" style = \"font-weight: bold; text-align: right;\">5</td><td style = \"text-align: right;\">0.06905</td><td style = \"text-align: right;\">0.0</td><td style = \"text-align: right;\">2.18</td><td style = \"text-align: right;\">0</td><td style = \"text-align: right;\">0.458</td><td style = \"text-align: right;\">7.147</td><td style = \"text-align: right;\">54.2</td><td style = \"text-align: right;\">6.0622</td><td style = \"text-align: right;\">3</td><td style = \"text-align: right;\">222</td><td style = \"text-align: right;\">18.7</td><td style = \"text-align: right;\">396.9</td><td style = \"text-align: right;\">5.33</td><td style = \"text-align: right;\">36.2</td></tr><tr><td class = \"rowNumber\" style = \"font-weight: bold; text-align: right;\">6</td><td style = \"text-align: right;\">0.02985</td><td style = \"text-align: right;\">0.0</td><td style = \"text-align: right;\">2.18</td><td style = \"text-align: right;\">0</td><td style = \"text-align: right;\">0.458</td><td style = \"text-align: right;\">6.43</td><td style = \"text-align: right;\">58.7</td><td style = \"text-align: right;\">6.0622</td><td style = \"text-align: right;\">3</td><td style = \"text-align: right;\">222</td><td style = \"text-align: right;\">18.7</td><td style = \"text-align: right;\">394.12</td><td style = \"text-align: right;\">5.21</td><td style = \"text-align: right;\">28.7</td></tr><tr><td class = \"rowNumber\" style = \"font-weight: bold; text-align: right;\">7</td><td style = \"text-align: right;\">0.08829</td><td style = \"text-align: right;\">12.5</td><td style = \"text-align: right;\">7.87</td><td style = \"text-align: right;\">0</td><td style = \"text-align: right;\">0.524</td><td style = \"text-align: right;\">6.012</td><td style = \"text-align: right;\">66.6</td><td style = \"text-align: right;\">5.5605</td><td style = \"text-align: right;\">5</td><td style = \"text-align: right;\">311</td><td style = \"text-align: right;\">15.2</td><td style = \"text-align: right;\">395.6</td><td style = \"text-align: right;\">12.43</td><td style = \"text-align: right;\">22.9</td></tr><tr><td class = \"rowNumber\" style = \"font-weight: bold; text-align: right;\">8</td><td style = \"text-align: right;\">0.14455</td><td style = \"text-align: right;\">12.5</td><td style = \"text-align: right;\">7.87</td><td style = \"text-align: right;\">0</td><td style = \"text-align: right;\">0.524</td><td style = \"text-align: right;\">6.172</td><td style = \"text-align: right;\">96.1</td><td style = \"text-align: right;\">5.9505</td><td style = \"text-align: right;\">5</td><td style = \"text-align: right;\">311</td><td style = \"text-align: right;\">15.2</td><td style = \"text-align: right;\">396.9</td><td style = \"text-align: right;\">19.15</td><td style = \"text-align: right;\">27.1</td></tr><tr><td class = \"rowNumber\" style = \"font-weight: bold; text-align: right;\">9</td><td style = \"text-align: right;\">0.21124</td><td style = \"text-align: right;\">12.5</td><td style = \"text-align: right;\">7.87</td><td style = \"text-align: right;\">0</td><td style = \"text-align: right;\">0.524</td><td style = \"text-align: right;\">5.631</td><td style = \"text-align: right;\">100.0</td><td style = \"text-align: right;\">6.0821</td><td style = \"text-align: right;\">5</td><td style = \"text-align: right;\">311</td><td style = \"text-align: right;\">15.2</td><td style = \"text-align: right;\">386.63</td><td style = \"text-align: right;\">29.93</td><td style = \"text-align: right;\">16.5</td></tr><tr><td class = \"rowNumber\" style = \"font-weight: bold; text-align: right;\">10</td><td style = \"text-align: right;\">0.17004</td><td style = \"text-align: right;\">12.5</td><td style = \"text-align: right;\">7.87</td><td style = \"text-align: right;\">0</td><td style = \"text-align: right;\">0.524</td><td style = \"text-align: right;\">6.004</td><td style = \"text-align: right;\">85.9</td><td style = \"text-align: right;\">6.5921</td><td style = \"text-align: right;\">5</td><td style = \"text-align: right;\">311</td><td style = \"text-align: right;\">15.2</td><td style = \"text-align: right;\">386.71</td><td style = \"text-align: right;\">17.1</td><td style = \"text-align: right;\">18.9</td></tr><tr><td class = \"rowNumber\" style = \"font-weight: bold; text-align: right;\">11</td><td style = \"text-align: right;\">0.22489</td><td style = \"text-align: right;\">12.5</td><td style = \"text-align: right;\">7.87</td><td style = \"text-align: right;\">0</td><td style = \"text-align: right;\">0.524</td><td style = \"text-align: right;\">6.377</td><td style = \"text-align: right;\">94.3</td><td style = \"text-align: right;\">6.3467</td><td style = \"text-align: right;\">5</td><td style = \"text-align: right;\">311</td><td style = \"text-align: right;\">15.2</td><td style = \"text-align: right;\">392.52</td><td style = \"text-align: right;\">20.45</td><td style = \"text-align: right;\">15.0</td></tr><tr><td class = \"rowNumber\" style = \"font-weight: bold; text-align: right;\">12</td><td style = \"text-align: right;\">0.11747</td><td style = \"text-align: right;\">12.5</td><td style = \"text-align: right;\">7.87</td><td style = \"text-align: right;\">0</td><td style = \"text-align: right;\">0.524</td><td style = \"text-align: right;\">6.009</td><td style = \"text-align: right;\">82.9</td><td style = \"text-align: right;\">6.2267</td><td style = \"text-align: right;\">5</td><td style = \"text-align: right;\">311</td><td style = \"text-align: right;\">15.2</td><td style = \"text-align: right;\">396.9</td><td style = \"text-align: right;\">13.27</td><td style = \"text-align: right;\">18.9</td></tr><tr><td class = \"rowNumber\" style = \"font-weight: bold; text-align: right;\">13</td><td style = \"text-align: right;\">0.09378</td><td style = \"text-align: right;\">12.5</td><td style = \"text-align: right;\">7.87</td><td style = \"text-align: right;\">0</td><td style = \"text-align: right;\">0.524</td><td style = \"text-align: right;\">5.889</td><td style = \"text-align: right;\">39.0</td><td style = \"text-align: right;\">5.4509</td><td style = \"text-align: right;\">5</td><td style = \"text-align: right;\">311</td><td style = \"text-align: right;\">15.2</td><td style = \"text-align: right;\">390.5</td><td style = \"text-align: right;\">15.71</td><td style = \"text-align: right;\">21.7</td></tr><tr><td style = \"text-align: right;\">&vellip;</td><td style = \"text-align: right;\">&vellip;</td><td style = \"text-align: right;\">&vellip;</td><td style = \"text-align: right;\">&vellip;</td><td style = \"text-align: right;\">&vellip;</td><td style = \"text-align: right;\">&vellip;</td><td style = \"text-align: right;\">&vellip;</td><td style = \"text-align: right;\">&vellip;</td><td style = \"text-align: right;\">&vellip;</td><td style = \"text-align: right;\">&vellip;</td><td style = \"text-align: right;\">&vellip;</td><td style = \"text-align: right;\">&vellip;</td><td style = \"text-align: right;\">&vellip;</td><td style = \"text-align: right;\">&vellip;</td><td style = \"text-align: right;\">&vellip;</td></tr><tr><td class = \"rowNumber\" style = \"font-weight: bold; text-align: right;\">495</td><td style = \"text-align: right;\">0.27957</td><td style = \"text-align: right;\">0.0</td><td style = \"text-align: right;\">9.69</td><td style = \"text-align: right;\">0</td><td style = \"text-align: right;\">0.585</td><td style = \"text-align: right;\">5.926</td><td style = \"text-align: right;\">42.6</td><td style = \"text-align: right;\">2.3817</td><td style = \"text-align: right;\">6</td><td style = \"text-align: right;\">391</td><td style = \"text-align: right;\">19.2</td><td style = \"text-align: right;\">396.9</td><td style = \"text-align: right;\">13.59</td><td style = \"text-align: right;\">24.5</td></tr><tr><td class = \"rowNumber\" style = \"font-weight: bold; text-align: right;\">496</td><td style = \"text-align: right;\">0.17899</td><td style = \"text-align: right;\">0.0</td><td style = \"text-align: right;\">9.69</td><td style = \"text-align: right;\">0</td><td style = \"text-align: right;\">0.585</td><td style = \"text-align: right;\">5.67</td><td style = \"text-align: right;\">28.8</td><td style = \"text-align: right;\">2.7986</td><td style = \"text-align: right;\">6</td><td style = \"text-align: right;\">391</td><td style = \"text-align: right;\">19.2</td><td style = \"text-align: right;\">393.29</td><td style = \"text-align: right;\">17.6</td><td style = \"text-align: right;\">23.1</td></tr><tr><td class = \"rowNumber\" style = \"font-weight: bold; text-align: right;\">497</td><td style = \"text-align: right;\">0.2896</td><td style = \"text-align: right;\">0.0</td><td style = \"text-align: right;\">9.69</td><td style = \"text-align: right;\">0</td><td style = \"text-align: right;\">0.585</td><td style = \"text-align: right;\">5.39</td><td style = \"text-align: right;\">72.9</td><td style = \"text-align: right;\">2.7986</td><td style = \"text-align: right;\">6</td><td style = \"text-align: right;\">391</td><td style = \"text-align: right;\">19.2</td><td style = \"text-align: right;\">396.9</td><td style = \"text-align: right;\">21.14</td><td style = \"text-align: right;\">19.7</td></tr><tr><td class = \"rowNumber\" style = \"font-weight: bold; text-align: right;\">498</td><td style = \"text-align: right;\">0.26838</td><td style = \"text-align: right;\">0.0</td><td style = \"text-align: right;\">9.69</td><td style = \"text-align: right;\">0</td><td style = \"text-align: right;\">0.585</td><td style = \"text-align: right;\">5.794</td><td style = \"text-align: right;\">70.6</td><td style = \"text-align: right;\">2.8927</td><td style = \"text-align: right;\">6</td><td style = \"text-align: right;\">391</td><td style = \"text-align: right;\">19.2</td><td style = \"text-align: right;\">396.9</td><td style = \"text-align: right;\">14.1</td><td style = \"text-align: right;\">18.3</td></tr><tr><td class = \"rowNumber\" style = \"font-weight: bold; text-align: right;\">499</td><td style = \"text-align: right;\">0.23912</td><td style = \"text-align: right;\">0.0</td><td style = \"text-align: right;\">9.69</td><td style = \"text-align: right;\">0</td><td style = \"text-align: right;\">0.585</td><td style = \"text-align: right;\">6.019</td><td style = \"text-align: right;\">65.3</td><td style = \"text-align: right;\">2.4091</td><td style = \"text-align: right;\">6</td><td style = \"text-align: right;\">391</td><td style = \"text-align: right;\">19.2</td><td style = \"text-align: right;\">396.9</td><td style = \"text-align: right;\">12.92</td><td style = \"text-align: right;\">21.2</td></tr><tr><td class = \"rowNumber\" style = \"font-weight: bold; text-align: right;\">500</td><td style = \"text-align: right;\">0.17783</td><td style = \"text-align: right;\">0.0</td><td style = \"text-align: right;\">9.69</td><td style = \"text-align: right;\">0</td><td style = \"text-align: right;\">0.585</td><td style = \"text-align: right;\">5.569</td><td style = \"text-align: right;\">73.5</td><td style = \"text-align: right;\">2.3999</td><td style = \"text-align: right;\">6</td><td style = \"text-align: right;\">391</td><td style = \"text-align: right;\">19.2</td><td style = \"text-align: right;\">395.77</td><td style = \"text-align: right;\">15.1</td><td style = \"text-align: right;\">17.5</td></tr><tr><td class = \"rowNumber\" style = \"font-weight: bold; text-align: right;\">501</td><td style = \"text-align: right;\">0.22438</td><td style = \"text-align: right;\">0.0</td><td style = \"text-align: right;\">9.69</td><td style = \"text-align: right;\">0</td><td style = \"text-align: right;\">0.585</td><td style = \"text-align: right;\">6.027</td><td style = \"text-align: right;\">79.7</td><td style = \"text-align: right;\">2.4982</td><td style = \"text-align: right;\">6</td><td style = \"text-align: right;\">391</td><td style = \"text-align: right;\">19.2</td><td style = \"text-align: right;\">396.9</td><td style = \"text-align: right;\">14.33</td><td style = \"text-align: right;\">16.8</td></tr><tr><td class = \"rowNumber\" style = \"font-weight: bold; text-align: right;\">502</td><td style = \"text-align: right;\">0.06263</td><td style = \"text-align: right;\">0.0</td><td style = \"text-align: right;\">11.93</td><td style = \"text-align: right;\">0</td><td style = \"text-align: right;\">0.573</td><td style = \"text-align: right;\">6.593</td><td style = \"text-align: right;\">69.1</td><td style = \"text-align: right;\">2.4786</td><td style = \"text-align: right;\">1</td><td style = \"text-align: right;\">273</td><td style = \"text-align: right;\">21.0</td><td style = \"text-align: right;\">391.99</td><td style = \"text-align: right;\">9.67</td><td style = \"text-align: right;\">22.4</td></tr><tr><td class = \"rowNumber\" style = \"font-weight: bold; text-align: right;\">503</td><td style = \"text-align: right;\">0.04527</td><td style = \"text-align: right;\">0.0</td><td style = \"text-align: right;\">11.93</td><td style = \"text-align: right;\">0</td><td style = \"text-align: right;\">0.573</td><td style = \"text-align: right;\">6.12</td><td style = \"text-align: right;\">76.7</td><td style = \"text-align: right;\">2.2875</td><td style = \"text-align: right;\">1</td><td style = \"text-align: right;\">273</td><td style = \"text-align: right;\">21.0</td><td style = \"text-align: right;\">396.9</td><td style = \"text-align: right;\">9.08</td><td style = \"text-align: right;\">20.6</td></tr><tr><td class = \"rowNumber\" style = \"font-weight: bold; text-align: right;\">504</td><td style = \"text-align: right;\">0.06076</td><td style = \"text-align: right;\">0.0</td><td style = \"text-align: right;\">11.93</td><td style = \"text-align: right;\">0</td><td style = \"text-align: right;\">0.573</td><td style = \"text-align: right;\">6.976</td><td style = \"text-align: right;\">91.0</td><td style = \"text-align: right;\">2.1675</td><td style = \"text-align: right;\">1</td><td style = \"text-align: right;\">273</td><td style = \"text-align: right;\">21.0</td><td style = \"text-align: right;\">396.9</td><td style = \"text-align: right;\">5.64</td><td style = \"text-align: right;\">23.9</td></tr><tr><td class = \"rowNumber\" style = \"font-weight: bold; text-align: right;\">505</td><td style = \"text-align: right;\">0.10959</td><td style = \"text-align: right;\">0.0</td><td style = \"text-align: right;\">11.93</td><td style = \"text-align: right;\">0</td><td style = \"text-align: right;\">0.573</td><td style = \"text-align: right;\">6.794</td><td style = \"text-align: right;\">89.3</td><td style = \"text-align: right;\">2.3889</td><td style = \"text-align: right;\">1</td><td style = \"text-align: right;\">273</td><td style = \"text-align: right;\">21.0</td><td style = \"text-align: right;\">393.45</td><td style = \"text-align: right;\">6.48</td><td style = \"text-align: right;\">22.0</td></tr><tr><td class = \"rowNumber\" style = \"font-weight: bold; text-align: right;\">506</td><td style = \"text-align: right;\">0.04741</td><td style = \"text-align: right;\">0.0</td><td style = \"text-align: right;\">11.93</td><td style = \"text-align: right;\">0</td><td style = \"text-align: right;\">0.573</td><td style = \"text-align: right;\">6.03</td><td style = \"text-align: right;\">80.8</td><td style = \"text-align: right;\">2.505</td><td style = \"text-align: right;\">1</td><td style = \"text-align: right;\">273</td><td style = \"text-align: right;\">21.0</td><td style = \"text-align: right;\">396.9</td><td style = \"text-align: right;\">7.88</td><td style = \"text-align: right;\">11.9</td></tr></tbody></table></div>"
      ],
      "text/latex": [
       "\\begin{tabular}{r|ccccccccccc}\n",
       "\t& crim & zn & indus & chas & nox & rm & age & dis & rad & tax & \\\\\n",
       "\t\\hline\n",
       "\t& Float64 & Float64 & Float64 & Int64 & Float64 & Float64 & Float64 & Float64 & Int64 & Int64 & \\\\\n",
       "\t\\hline\n",
       "\t1 & 0.00632 & 18.0 & 2.31 & 0 & 0.538 & 6.575 & 65.2 & 4.09 & 1 & 296 & $\\dots$ \\\\\n",
       "\t2 & 0.02731 & 0.0 & 7.07 & 0 & 0.469 & 6.421 & 78.9 & 4.9671 & 2 & 242 & $\\dots$ \\\\\n",
       "\t3 & 0.02729 & 0.0 & 7.07 & 0 & 0.469 & 7.185 & 61.1 & 4.9671 & 2 & 242 & $\\dots$ \\\\\n",
       "\t4 & 0.03237 & 0.0 & 2.18 & 0 & 0.458 & 6.998 & 45.8 & 6.0622 & 3 & 222 & $\\dots$ \\\\\n",
       "\t5 & 0.06905 & 0.0 & 2.18 & 0 & 0.458 & 7.147 & 54.2 & 6.0622 & 3 & 222 & $\\dots$ \\\\\n",
       "\t6 & 0.02985 & 0.0 & 2.18 & 0 & 0.458 & 6.43 & 58.7 & 6.0622 & 3 & 222 & $\\dots$ \\\\\n",
       "\t7 & 0.08829 & 12.5 & 7.87 & 0 & 0.524 & 6.012 & 66.6 & 5.5605 & 5 & 311 & $\\dots$ \\\\\n",
       "\t8 & 0.14455 & 12.5 & 7.87 & 0 & 0.524 & 6.172 & 96.1 & 5.9505 & 5 & 311 & $\\dots$ \\\\\n",
       "\t9 & 0.21124 & 12.5 & 7.87 & 0 & 0.524 & 5.631 & 100.0 & 6.0821 & 5 & 311 & $\\dots$ \\\\\n",
       "\t10 & 0.17004 & 12.5 & 7.87 & 0 & 0.524 & 6.004 & 85.9 & 6.5921 & 5 & 311 & $\\dots$ \\\\\n",
       "\t11 & 0.22489 & 12.5 & 7.87 & 0 & 0.524 & 6.377 & 94.3 & 6.3467 & 5 & 311 & $\\dots$ \\\\\n",
       "\t12 & 0.11747 & 12.5 & 7.87 & 0 & 0.524 & 6.009 & 82.9 & 6.2267 & 5 & 311 & $\\dots$ \\\\\n",
       "\t13 & 0.09378 & 12.5 & 7.87 & 0 & 0.524 & 5.889 & 39.0 & 5.4509 & 5 & 311 & $\\dots$ \\\\\n",
       "\t14 & 0.62976 & 0.0 & 8.14 & 0 & 0.538 & 5.949 & 61.8 & 4.7075 & 4 & 307 & $\\dots$ \\\\\n",
       "\t15 & 0.63796 & 0.0 & 8.14 & 0 & 0.538 & 6.096 & 84.5 & 4.4619 & 4 & 307 & $\\dots$ \\\\\n",
       "\t16 & 0.62739 & 0.0 & 8.14 & 0 & 0.538 & 5.834 & 56.5 & 4.4986 & 4 & 307 & $\\dots$ \\\\\n",
       "\t17 & 1.05393 & 0.0 & 8.14 & 0 & 0.538 & 5.935 & 29.3 & 4.4986 & 4 & 307 & $\\dots$ \\\\\n",
       "\t18 & 0.7842 & 0.0 & 8.14 & 0 & 0.538 & 5.99 & 81.7 & 4.2579 & 4 & 307 & $\\dots$ \\\\\n",
       "\t19 & 0.80271 & 0.0 & 8.14 & 0 & 0.538 & 5.456 & 36.6 & 3.7965 & 4 & 307 & $\\dots$ \\\\\n",
       "\t20 & 0.7258 & 0.0 & 8.14 & 0 & 0.538 & 5.727 & 69.5 & 3.7965 & 4 & 307 & $\\dots$ \\\\\n",
       "\t21 & 1.25179 & 0.0 & 8.14 & 0 & 0.538 & 5.57 & 98.1 & 3.7979 & 4 & 307 & $\\dots$ \\\\\n",
       "\t22 & 0.85204 & 0.0 & 8.14 & 0 & 0.538 & 5.965 & 89.2 & 4.0123 & 4 & 307 & $\\dots$ \\\\\n",
       "\t23 & 1.23247 & 0.0 & 8.14 & 0 & 0.538 & 6.142 & 91.7 & 3.9769 & 4 & 307 & $\\dots$ \\\\\n",
       "\t24 & 0.98843 & 0.0 & 8.14 & 0 & 0.538 & 5.813 & 100.0 & 4.0952 & 4 & 307 & $\\dots$ \\\\\n",
       "\t25 & 0.75026 & 0.0 & 8.14 & 0 & 0.538 & 5.924 & 94.1 & 4.3996 & 4 & 307 & $\\dots$ \\\\\n",
       "\t26 & 0.84054 & 0.0 & 8.14 & 0 & 0.538 & 5.599 & 85.7 & 4.4546 & 4 & 307 & $\\dots$ \\\\\n",
       "\t27 & 0.67191 & 0.0 & 8.14 & 0 & 0.538 & 5.813 & 90.3 & 4.682 & 4 & 307 & $\\dots$ \\\\\n",
       "\t28 & 0.95577 & 0.0 & 8.14 & 0 & 0.538 & 6.047 & 88.8 & 4.4534 & 4 & 307 & $\\dots$ \\\\\n",
       "\t29 & 0.77299 & 0.0 & 8.14 & 0 & 0.538 & 6.495 & 94.4 & 4.4547 & 4 & 307 & $\\dots$ \\\\\n",
       "\t30 & 1.00245 & 0.0 & 8.14 & 0 & 0.538 & 6.674 & 87.3 & 4.239 & 4 & 307 & $\\dots$ \\\\\n",
       "\t$\\dots$ & $\\dots$ & $\\dots$ & $\\dots$ & $\\dots$ & $\\dots$ & $\\dots$ & $\\dots$ & $\\dots$ & $\\dots$ & $\\dots$ &  \\\\\n",
       "\\end{tabular}\n"
      ],
      "text/plain": [
       "\u001b[1m506×14 DataFrame\u001b[0m\n",
       "\u001b[1m Row \u001b[0m│\u001b[1m crim    \u001b[0m\u001b[1m zn      \u001b[0m\u001b[1m indus   \u001b[0m\u001b[1m chas  \u001b[0m\u001b[1m nox     \u001b[0m\u001b[1m rm      \u001b[0m\u001b[1m age     \u001b[0m\u001b[1m dis     \u001b[0m\u001b[1m r\u001b[0m ⋯\n",
       "     │\u001b[90m Float64 \u001b[0m\u001b[90m Float64 \u001b[0m\u001b[90m Float64 \u001b[0m\u001b[90m Int64 \u001b[0m\u001b[90m Float64 \u001b[0m\u001b[90m Float64 \u001b[0m\u001b[90m Float64 \u001b[0m\u001b[90m Float64 \u001b[0m\u001b[90m I\u001b[0m ⋯\n",
       "─────┼──────────────────────────────────────────────────────────────────────────\n",
       "   1 │ 0.00632     18.0     2.31      0    0.538    6.575     65.2   4.09      ⋯\n",
       "   2 │ 0.02731      0.0     7.07      0    0.469    6.421     78.9   4.9671\n",
       "   3 │ 0.02729      0.0     7.07      0    0.469    7.185     61.1   4.9671\n",
       "   4 │ 0.03237      0.0     2.18      0    0.458    6.998     45.8   6.0622\n",
       "   5 │ 0.06905      0.0     2.18      0    0.458    7.147     54.2   6.0622    ⋯\n",
       "   6 │ 0.02985      0.0     2.18      0    0.458    6.43      58.7   6.0622\n",
       "   7 │ 0.08829     12.5     7.87      0    0.524    6.012     66.6   5.5605\n",
       "   8 │ 0.14455     12.5     7.87      0    0.524    6.172     96.1   5.9505\n",
       "   9 │ 0.21124     12.5     7.87      0    0.524    5.631    100.0   6.0821    ⋯\n",
       "  10 │ 0.17004     12.5     7.87      0    0.524    6.004     85.9   6.5921\n",
       "  11 │ 0.22489     12.5     7.87      0    0.524    6.377     94.3   6.3467\n",
       "  ⋮  │    ⋮        ⋮        ⋮       ⋮       ⋮        ⋮        ⋮        ⋮       ⋱\n",
       " 497 │ 0.2896       0.0     9.69      0    0.585    5.39      72.9   2.7986\n",
       " 498 │ 0.26838      0.0     9.69      0    0.585    5.794     70.6   2.8927    ⋯\n",
       " 499 │ 0.23912      0.0     9.69      0    0.585    6.019     65.3   2.4091\n",
       " 500 │ 0.17783      0.0     9.69      0    0.585    5.569     73.5   2.3999\n",
       " 501 │ 0.22438      0.0     9.69      0    0.585    6.027     79.7   2.4982\n",
       " 502 │ 0.06263      0.0    11.93      0    0.573    6.593     69.1   2.4786    ⋯\n",
       " 503 │ 0.04527      0.0    11.93      0    0.573    6.12      76.7   2.2875\n",
       " 504 │ 0.06076      0.0    11.93      0    0.573    6.976     91.0   2.1675\n",
       " 505 │ 0.10959      0.0    11.93      0    0.573    6.794     89.3   2.3889\n",
       " 506 │ 0.04741      0.0    11.93      0    0.573    6.03      80.8   2.505     ⋯\n",
       "\u001b[36m                                                  6 columns and 485 rows omitted\u001b[0m"
      ]
     },
     "execution_count": 107,
     "metadata": {},
     "output_type": "execute_result"
    }
   ],
   "source": [
    "bh = CSV.read(\"housing.csv\", DataFrame)"
   ]
  },
  {
   "cell_type": "code",
   "execution_count": 108,
   "id": "5252fb0d",
   "metadata": {},
   "outputs": [
    {
     "data": {
      "text/plain": [
       "506×1 Matrix{Float64}:\n",
       " 24.0\n",
       " 21.6\n",
       " 34.7\n",
       " 33.4\n",
       " 36.2\n",
       " 28.7\n",
       " 22.9\n",
       " 27.1\n",
       " 16.5\n",
       " 18.9\n",
       " 15.0\n",
       " 18.9\n",
       " 21.7\n",
       "  ⋮\n",
       " 24.5\n",
       " 23.1\n",
       " 19.7\n",
       " 18.3\n",
       " 21.2\n",
       " 17.5\n",
       " 16.8\n",
       " 22.4\n",
       " 20.6\n",
       " 23.9\n",
       " 22.0\n",
       " 11.9"
      ]
     },
     "execution_count": 108,
     "metadata": {},
     "output_type": "execute_result"
    }
   ],
   "source": [
    "X = Matrix(select(bh, :zn, :crim,:rm))\n",
    "y = Matrix(select(bh, :medv))"
   ]
  },
  {
   "cell_type": "code",
   "execution_count": 72,
   "id": "63a4ab04",
   "metadata": {},
   "outputs": [
    {
     "data": {
      "text/plain": [
       "3×1 Matrix{Float64}:\n",
       "  0.07763976909743445\n",
       " -0.321559192482308\n",
       "  3.6767659887575705"
      ]
     },
     "execution_count": 72,
     "metadata": {},
     "output_type": "execute_result"
    }
   ],
   "source": [
    "inv((transpose(X)*X)) * transpose(X) * y"
   ]
  },
  {
   "cell_type": "code",
   "execution_count": 63,
   "id": "fb69e011",
   "metadata": {},
   "outputs": [
    {
     "data": {
      "text/plain": [
       "506×3 Matrix{Float64}:\n",
       "  0.28483    0.00632  6.575\n",
       " -0.487722   0.02731  6.421\n",
       " -0.487722   0.02729  7.185\n",
       " -0.487722   0.03237  6.998\n",
       " -0.487722   0.06905  7.147\n",
       " -0.487722   0.02985  6.43\n",
       "  0.0487722  0.08829  6.012\n",
       "  0.0487722  0.14455  6.172\n",
       "  0.0487722  0.21124  5.631\n",
       "  0.0487722  0.17004  6.004\n",
       "  0.0487722  0.22489  6.377\n",
       "  0.0487722  0.11747  6.009\n",
       "  0.0487722  0.09378  5.889\n",
       "  ⋮                   \n",
       " -0.487722   0.27957  5.926\n",
       " -0.487722   0.17899  5.67\n",
       " -0.487722   0.2896   5.39\n",
       " -0.487722   0.26838  5.794\n",
       " -0.487722   0.23912  6.019\n",
       " -0.487722   0.17783  5.569\n",
       " -0.487722   0.22438  6.027\n",
       " -0.487722   0.06263  6.593\n",
       " -0.487722   0.04527  6.12\n",
       " -0.487722   0.06076  6.976\n",
       " -0.487722   0.10959  6.794\n",
       " -0.487722   0.04741  6.03"
      ]
     },
     "execution_count": 63,
     "metadata": {},
     "output_type": "execute_result"
    }
   ],
   "source": []
  },
  {
   "cell_type": "code",
   "execution_count": 2,
   "id": "bf49ca50",
   "metadata": {},
   "outputs": [
    {
     "data": {
      "text/plain": [
       "maximize\n",
       "└─ sum (affine; real)\n",
       "   └─ index (affine; real)\n",
       "      └─ 102×102 real variable (id: 855…685)\n",
       "subject to\n",
       "├─ == constraint (affine)\n",
       "│  ├─ + (affine; real)\n",
       "│  │  ├─ * (affine; real)\n",
       "│  │  │  ├─ …\n",
       "│  │  │  └─ …\n",
       "│  │  ├─ - (affine; real)\n",
       "│  │  │  └─ …\n",
       "│  │  ├─ * (affine; real)\n",
       "│  │  │  ├─ …\n",
       "│  │  │  └─ …\n",
       "│  │  ├─ - (affine; real)\n",
       "│  │  │  └─ …\n",
       "│  │  ├─ * (affine; real)\n",
       "│  │  │  ├─ …\n",
       "│  │  │  └─ …\n",
       "│  │  ├─ - (affine; real)\n",
       "│  │  │  └─ …\n",
       "│  │  ├─ * (affine; real)\n",
       "│  │  │  ├─ …\n",
       "│  │  │  └─ …\n",
       "│  │  ├─ - (affine; real)\n",
       "│  │  │  └─ …\n",
       "│  │  ├─ * (affine; real)\n",
       "│  │  │  ├─ …\n",
       "│  │  │  └─ …\n",
       "│  │  ├─ - (affine; real)\n",
       "│  │  │  └─ …\n",
       "│  │  ├─ * (affine; real)\n",
       "│  │  │  ├─ …\n",
       "│  │  │  └─ …\n",
       "│  │  ├─ - (affine; real)\n",
       "│  │  │  └─ …\n",
       "│  │  ├─ * (affine; real)\n",
       "│  │  │  ├─ …\n",
       "│  │  │  └─ …\n",
       "│  │  ├─ - (affine; real)\n",
       "│  │  │  └─ …\n",
       "│  │  ├─ * (affine; real)\n",
       "│  │  │  ├─ …\n",
       "│  │  │  └─ …\n",
       "│  │  ⋮\n",
       "│  └─ 0\n",
       "└─ == constraint (affine)\n",
       "   ├─ + (affine; real)\n",
       "   │  ├─ * (affine; real)\n",
       "   │  │  ├─ …\n",
       "   │  │  └─ …\n",
       "   │  ├─ - (affine; real)\n",
       "   │  │  └─ …\n",
       "   │  ├─ * (affine; real)\n",
       "   │  │  ├─ …\n",
       "   │  │  └─ …\n",
       "   │  ├─ - (affine; real)\n",
       "   │  │  └─ …\n",
       "   │  ├─ * (affine; real)\n",
       "   │  │  ├─ …\n",
       "   │  │  └─ …\n",
       "   │  ├─ - (affine; real)\n",
       "   │  │  └─ …\n",
       "   │  ├─ * (affine; real)\n",
       "   │  │  ├─ …\n",
       "   │  │  └─ …\n",
       "   │  ├─ - (affine; real)\n",
       "   │  │  └─ …\n",
       "   │  ├─ * (affine; real)\n",
       "   │  │  ├─ …\n",
       "   │  │  └─ …\n",
       "   │  ├─ - (affine; real)\n",
       "   │  │  └─ …\n",
       "   │  ├─ * (affine; real)\n",
       "   │  │  ├─ …\n",
       "   │  │  └─ …\n",
       "   │  ├─ - (affine; real)\n",
       "   │  │  └─ …\n",
       "   │  ├─ * (affine; real)\n",
       "   │  │  ├─ …\n",
       "   │  │  └─ …\n",
       "   │  ├─ - (affine; real)\n",
       "   │  │  └─ …\n",
       "   │  ├─ * (affine; real)\n",
       "   │  │  ├─ …\n",
       "   │  │  └─ …\n",
       "   │  ⋮\n",
       "   └─ 0\n",
       "\n",
       "status: `solve!` not called yet"
      ]
     },
     "execution_count": 2,
     "metadata": {},
     "output_type": "execute_result"
    }
   ],
   "source": [
    "# simple linear regression certifier via sdp\n",
    "\n",
    "n = 100\n",
    "#m = 10\n",
    "X = randn(n)\n",
    "X2 = randn(n)\n",
    "\n",
    "y = [X[i] + 3*X2[i] + 0.01*randn() for i in 1:100]\n",
    "\n",
    "W = Variable((n+2),(n+2))\n",
    "\n",
    "add_constraint!(W, W[1,1] == 1)\n",
    "\n",
    "for i in 1:n\n",
    "    add_constraint!(W,W[1,i+2] == W[i+2, i+2])\n",
    "    W[i+2,i+2] <= 1\n",
    "end\n",
    "\n",
    "add_constraint!(W, W in :SDP)\n",
    "\n",
    "# weighted_residuals = [X[i]^2 * W[2,i+2] - W[1,i+2]*y[i]*X[i] for i in 1:n]\n",
    "\n",
    "weighted_residuals = [X[i]^2 * W[2,i+2] for i in 1:n]\n",
    "    \n",
    "problem = maximize(sum(W[1,3:n+2]), sum([X[i]^2 * W[2,i+2] - W[1,i+2]*y[i]*X[i] for i in 1:n])  == 0, sum([X[i] * X2[i] * W[2,i+2] - W[1,i+2]*y[i]*X2[i] for i in 1:n])  == 0)\n"
   ]
  },
  {
   "cell_type": "code",
   "execution_count": 168,
   "id": "61c61f32",
   "metadata": {},
   "outputs": [
    {
     "name": "stdout",
     "output_type": "stream",
     "text": [
      "------------------------------------------------------------------\n",
      "\t       SCS v3.2.1 - Splitting Conic Solver\n",
      "\t(c) Brendan O'Donoghue, Stanford University, 2012\n",
      "------------------------------------------------------------------\n",
      "problem:  variables n: 10405, constraints m: 10508\n",
      "cones: \t  z: primal zero / dual free vars: 5255\n",
      "\t  s: psd vars: 5253, ssize: 1\n",
      "settings: eps_abs: 1.0e-04, eps_rel: 1.0e-04, eps_infeas: 1.0e-07\n",
      "\t  alpha: 1.50, scale: 1.00e-01, adaptive_scale: 1\n",
      "\t  max_iters: 100000, normalize: 1, rho_x: 1.00e-06\n",
      "\t  acceleration_lookback: 10, acceleration_interval: 10\n",
      "lin-sys:  sparse-direct-amd-qdldl\n",
      "\t  nnz(A): 16257, nnz(P): 0\n",
      "------------------------------------------------------------------\n",
      " iter | pri res | dua res |   gap   |   obj   |  scale  | time (s)\n",
      "------------------------------------------------------------------\n",
      "     0| 3.71e+01  2.78e+00  6.40e+02 -3.20e+02  1.00e-01  1.03e-02 \n",
      "   250| 2.27e-01  4.20e-03  3.84e-04 -9.98e+01  6.37e-03  7.89e-01 \n",
      "   500| 6.39e-01  4.14e-03  1.72e-04 -1.00e+02  6.37e-03  1.52e+00 \n",
      "   750| 2.95e-01  1.85e-03  2.09e-03 -9.93e+01  6.37e-03  2.18e+00 \n",
      "  1000| 1.50e-01  3.81e-04  5.80e-05 -9.94e+01  6.37e-03  2.85e+00 \n",
      "  1250| 1.46e-01  3.61e-04  2.86e-05 -9.94e+01  6.37e-03  3.51e+00 \n",
      "  1500| 1.40e-01  3.45e-04  2.05e-05 -9.93e+01  6.37e-03  4.18e+00 \n",
      "  1750| 2.22e+04  1.00e+02  9.98e+03 -4.89e+03  6.37e-03  4.86e+00 \n",
      "  2000| 1.23e-01  3.18e-04  1.37e-05 -9.92e+01  6.37e-03  5.54e+00 \n",
      "  2250| 1.11e-01  3.06e-04  9.99e-06 -9.91e+01  6.37e-03  6.20e+00 \n",
      "  2500| 9.62e-02  2.96e-04  6.12e-06 -9.91e+01  6.37e-03  6.82e+00 \n",
      "  2750| 3.31e+00  1.51e-02  2.67e-06 -9.90e+01  6.37e-03  7.95e+00 \n",
      "  3000| 1.85e-01  8.79e-04  1.54e-03 -9.94e+01  6.37e-03  8.61e+00 \n",
      "  3250| 2.62e-02  2.50e-04  3.37e-06 -9.91e+01  6.37e-03  9.26e+00 \n",
      "  3500| 1.71e-02  2.44e-04  4.15e-06 -9.91e+01  6.37e-03  1.00e+01 \n",
      "  3600| 5.81e-02  1.75e-04  2.34e-04 -9.93e+01  6.37e-03  1.03e+01 \n",
      "------------------------------------------------------------------\n",
      "status:  solved\n",
      "timings: total: 1.03e+01s = setup: 7.67e-03s + solve: 1.03e+01s\n",
      "\t lin-sys: 1.26e+00s, cones: 8.45e+00s, accel: 1.19e-01s\n",
      "------------------------------------------------------------------\n",
      "objective = -99.272055\n",
      "------------------------------------------------------------------\n"
     ]
    }
   ],
   "source": [
    "solve!(problem, SCS.Optimizer)"
   ]
  },
  {
   "cell_type": "code",
   "execution_count": 172,
   "id": "90584a46",
   "metadata": {},
   "outputs": [
    {
     "data": {
      "text/plain": [
       "1.66956566181897"
      ]
     },
     "execution_count": 172,
     "metadata": {},
     "output_type": "execute_result"
    }
   ],
   "source": [
    "W.value[2,5]"
   ]
  },
  {
   "cell_type": "code",
   "execution_count": 163,
   "id": "6fd8a7c5",
   "metadata": {},
   "outputs": [
    {
     "data": {
      "text/plain": [
       "StatsModels.TableRegressionModel{LinearModel{GLM.LmResp{Vector{Float64}}, GLM.DensePredChol{Float64, CholeskyPivoted{Float64, Matrix{Float64}, Vector{Int64}}}}, Matrix{Float64}}\n",
       "\n",
       "z ~ 1 + x1 + x2\n",
       "\n",
       "Coefficients:\n",
       "───────────────────────────────────────────────────────────────────────────────\n",
       "                   Coef.  Std. Error       t  Pr(>|t|)    Lower 95%   Upper 95%\n",
       "───────────────────────────────────────────────────────────────────────────────\n",
       "(Intercept)  0.000256339  0.00121359    0.21    0.8332  -0.00215231  0.00266499\n",
       "x1           1.00058      0.00126895  788.50    <1e-99   0.998057    1.00309\n",
       "x2           0.998154     0.00120055  831.42    <1e-99   0.995772    1.00054\n",
       "───────────────────────────────────────────────────────────────────────────────"
      ]
     },
     "execution_count": 163,
     "metadata": {},
     "output_type": "execute_result"
    }
   ],
   "source": []
  }
 ],
 "metadata": {
  "kernelspec": {
   "display_name": "Julia 1.8.2",
   "language": "julia",
   "name": "julia-1.8"
  },
  "language_info": {
   "file_extension": ".jl",
   "mimetype": "application/julia",
   "name": "julia",
   "version": "1.8.2"
  }
 },
 "nbformat": 4,
 "nbformat_minor": 5
}
