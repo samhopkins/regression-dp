{
 "cells": [
  {
   "cell_type": "code",
   "execution_count": 2,
   "id": "86b5ef86-aed1-4817-8ab2-f17834722572",
   "metadata": {},
   "outputs": [],
   "source": [
    "import numpy as np\n",
    "import gurobipy as gp\n",
    "from gurobipy import GRB\n",
    "import matplotlib.pyplot as plt\n",
    "import numpy as np\n",
    "from scipy.spatial import ConvexHull, convex_hull_plot_2d"
   ]
  },
  {
   "cell_type": "code",
   "execution_count": 12,
   "id": "2ca40987-e52e-407a-b070-a4c37bbeea8c",
   "metadata": {},
   "outputs": [],
   "source": [
    "def compute_sensitivity(xs, ys, eps, delta):\n",
    "    \n",
    "    # Create a new model\n",
    "    m = gp.Model(\"bilinear\")\n",
    "    m.setParam('OutputFlag', 0)\n",
    "    m.Params.TimeLimit = 10\n",
    "    # Create variables                \n",
    "\n",
    "    beta1 = m.addVar(name=\"beta1\")\n",
    "    beta2 = m.addVar(name=\"beta2\")\n",
    "    d_x1 = m.addVar(name=\"dx1\")\n",
    "    d_x2 = m.addVar(name=\"dx2\")\n",
    "    d_xy1 = m.addVar(name=\"dxy1\")\n",
    "    d_xy2 = m.addVar(name=\"dxy2\")\n",
    "    diff = m.addVar(name=\"diff\")\n",
    "\n",
    "    # Set objective: maximize x\n",
    "    m.setObjective(diff, GRB.MAXIMIZE)\n",
    "\n",
    "    m.addConstr(beta1 - beta2 - diff == 0)\n",
    "    \n",
    "    sum_x_sq = np.sum(np.square(xs))\n",
    "    sum_xy = np.sum(xs * ys)\n",
    "\n",
    "    # Add bilinear optimality constraints\n",
    "    m.addConstr(beta1 * (sum_x_sq + d_x1) - sum_xy - d_xy1 == 0, \"beta1_opt_c\")\n",
    "    m.addConstr(beta2 * (sum_x_sq + d_x1 + d_x2) - sum_xy - d_xy1 - d_xy2 == 0, \"beta2_opt_c\")\n",
    "\n",
    "    # Add linear perturbation constraints\n",
    "    num = int(np.ceil(np.log(1/delta) / eps))\n",
    "    \n",
    "    Z = [m.addVar(lb=-1, ub=1, vtype=GRB.INTEGER, name=\"z\" + str(i)) for i in range(num + 1)]\n",
    "    \n",
    "#     Z = [m.addVar(name=\"z\" + str(i), vtype=GRB.CONTINUOUS) for i in range(num + 1)]\n",
    "    \n",
    "#     for i in range(num + 1):\n",
    "#         m.addConstr(-1 <= Z[i])\n",
    "#         m.addConstr(Z[i] <= 1)\n",
    "\n",
    "    points = m.addMVar((num + 1, 2), name=\"points\")\n",
    "\n",
    "    # d1 definition\n",
    "    m.addConstr(d_x1 == sum([Z[i] * points[i,0] for i in range(num)]), \"dx1_def\")\n",
    "    m.addConstr(d_xy1 == sum([Z[i] * points[i,1] for i in range(num)]), \"dxy1_def\")\n",
    "\n",
    "    # d2 definition\n",
    "    m.addConstr(d_x2 == Z[num] * points[num, 0], \"dx2_def\")\n",
    "    m.addConstr(d_xy2 == Z[num] * points[num, 1], \"dxy2_def\")\n",
    "\n",
    "    # hull constraints\n",
    "    hull = ConvexHull(np.array([np.square(xs), xs * ys]).T)\n",
    "    M = hull.equations\n",
    "    A =  -1 * np.array(M[:, :-1], dtype=float)\n",
    "    b = np.array(M[:, -1], dtype=float)\n",
    "\n",
    "    for i in range(num + 1):\n",
    "        m.addConstr(A @ points[i] >= b)\n",
    "\n",
    "    # Solve bilinear model\n",
    "    m.Params.NonConvex = 2\n",
    "        \n",
    "    m.optimize()\n",
    "    \n",
    "    b1, v1 = m.ObjBound, m.ObjVal\n",
    "    \n",
    "    m.setObjective(-1 * diff, GRB.MAXIMIZE)\n",
    "    \n",
    "    m.optimize()\n",
    "    \n",
    "    b2, v2 = m.ObjBound, m.ObjVal\n",
    "    # print(b1,v1,b2,v2)\n",
    "    return max(v1, v2), max(b1, b2)"
   ]
  },
  {
   "cell_type": "code",
   "execution_count": 9,
   "id": "0e7a19be-d52c-44d3-9c75-108bffe9aa2e",
   "metadata": {},
   "outputs": [],
   "source": [
    "delta = 1e-32\n",
    "eps = 10\n",
    "n =50\n",
    "slope = 100000\n",
    "# x = np.random.randn(n)\n",
    "x = np.sign(np.random.randn(n)) + .0001 * np.random.randn(n)\n",
    "y = x * slope + np.random.randn(n) \n",
    "\n",
    "v, b = compute_sensitivity(x,y,eps,delta)"
   ]
  },
  {
   "cell_type": "code",
   "execution_count": 10,
   "id": "d16e25c4-346d-41f5-9927-1482a8827694",
   "metadata": {},
   "outputs": [
    {
     "data": {
      "text/plain": [
       "(99944.31921247332, 100037.05029916075, 0.032759723311755806)"
      ]
     },
     "execution_count": 10,
     "metadata": {},
     "output_type": "execute_result"
    }
   ],
   "source": [
    "np.min(x*y),np.max(x*y), b"
   ]
  },
  {
   "cell_type": "code",
   "execution_count": null,
   "id": "788fa9d3-3505-4ded-801c-6b45f379593b",
   "metadata": {},
   "outputs": [],
   "source": [
    "b"
   ]
  },
  {
   "cell_type": "code",
   "execution_count": 14,
   "id": "397d5b9a-9990-486a-a0e5-5bbf440cb481",
   "metadata": {},
   "outputs": [
    {
     "name": "stdout",
     "output_type": "stream",
     "text": [
      "eps: 1, delta: 1e-32\n",
      "gap : 3585.466091386742\n",
      "num points : 100\n",
      "sigma /sqrt(n) : 0.1\n",
      "sensitivity : 216.20510630236276\n",
      "sensitivity  / (sigma / sqrt(n)) (OJO): 2162.0510630236276\n",
      "Bounds  8.71718638405025e-06 3.959141407848477 0.08960898997157077 39594.325886260835\n",
      "\n"
     ]
    },
    {
     "data": {
      "image/png": "[encoded data removed]",
      "text/plain": [
       "<Figure size 640x480 with 1 Axes>"
      ]
     },
     "metadata": {},
     "output_type": "display_data"
    },
    {
     "name": "stdout",
     "output_type": "stream",
     "text": [
      "---------------------------------------------------\n"
     ]
    }
   ],
   "source": [
    "delta = 1e-32\n",
    "eps = 1\n",
    "sigma = 1\n",
    "slope = 10000\n",
    "\n",
    "print(\"eps: {}, delta: {}\".format(eps, delta))\n",
    "for n in [100]:#[50, 100, 500, 1000, 10000]:\n",
    "    \n",
    "    xs = np.sign(np.random.randn(n)) +  np.random.rand(n)\n",
    "    ys = xs * slope + np.random.randn(n) * sigma\n",
    "    \n",
    "    xs_sq = np.square(xs)\n",
    "    xys = xs * ys\n",
    "    num = np.ceil(np.log(1/delta) / eps)\n",
    "    val, bound  = compute_sensitivity(xs, ys, eps, delta)\n",
    "\n",
    "    print(\"gap :\", (bound-val)/ val )\n",
    "    print(\"num points :\", n) \n",
    "    print(\"sigma /sqrt(n) :\", sigma / np.sqrt(n)) \n",
    "    print(\"sensitivity :\", bound)\n",
    "    print(\"sensitivity  / (sigma / sqrt(n)) (OJO):\", np.sqrt(n) *  bound / sigma)\n",
    "    print(\"Bounds \", np.min(xs_sq), np.max(xs_sq), np.min(xys), np.max(xys))\n",
    "    print()\n",
    "    \n",
    "    hull = ConvexHull(np.array([np.square(xs), xs * ys]).T)\n",
    "    convex_hull_plot_2d(hull)\n",
    "    plt.show()\n",
    "    print(\"---------------------------------------------------\")"
   ]
  },
  {
   "cell_type": "code",
   "execution_count": null,
   "id": "1bbfdf64-aa30-4107-80ec-6e72308a14cf",
   "metadata": {},
   "outputs": [],
   "source": [
    "import statsmodels.api as sm\n",
    "ols = sm.OLS(ys, xs)\n",
    "results = ols.fit()\n",
    "results.summary()"
   ]
  },
  {
   "cell_type": "code",
   "execution_count": null,
   "id": "3d1a8b04-3d9c-4169-a70f-3e5c3fc252bb",
   "metadata": {},
   "outputs": [],
   "source": [
    "from scipy.spatial import ConvexHull, convex_hull_plot_2d\n",
    "np.array([np.square(x), x* y]).T\n",
    "\n",
    "\n",
    "\n",
    "hull = ConvexHull(np.array([np.square(x), x* y]).T)\n",
    "\n",
    "slope = .5\n",
    "n = 100000\n",
    "x = np.random.randn(n)\n",
    "y = x * slope + np.random.randn(n) \n",
    "hull = ConvexHull(np.array([np.square(x), x* y]).T)\n",
    "plt.scatter(np.square(x), x*y)\n",
    "convex_hull_plot_2d(hull)\n",
    "\n",
    "M = hull.equations\n",
    "A =  -1 * np.array(M[:, :-1], dtype=float)\n",
    "b = np.array(M[:, -1], dtype=float)\n",
    "selected = []\n",
    "not_selected = []\n",
    "for i in range(1000):\n",
    "    candidate_point = np.random.randn(2)\n",
    "    v = (A @ candidate_point) >= b\n",
    "    truth  = v.all()\n",
    "    if truth:\n",
    "        selected.append(candidate_point)\n",
    "    else:\n",
    "        not_selected.append(candidate_point)\n",
    "\n"
   ]
  },
  {
   "cell_type": "code",
   "execution_count": null,
   "id": "13e4b721-a487-4a90-baa7-a39af1e012f3",
   "metadata": {},
   "outputs": [],
   "source": []
  }
 ],
 "metadata": {
  "kernelspec": {
   "display_name": "Python 3 (ipykernel)",
   "language": "python",
   "name": "python3"
  },
  "language_info": {
   "codemirror_mode": {
    "name": "ipython",
    "version": 3
   },
   "file_extension": ".py",
   "mimetype": "text/x-python",
   "name": "python",
   "nbconvert_exporter": "python",
   "pygments_lexer": "ipython3",
   "version": "3.9.13"
  }
 },
 "nbformat": 4,
 "nbformat_minor": 5
}
